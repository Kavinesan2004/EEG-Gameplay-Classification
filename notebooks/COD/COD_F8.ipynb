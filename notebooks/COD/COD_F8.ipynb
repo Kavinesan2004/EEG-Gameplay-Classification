{
 "cells": [
  {
   "cell_type": "code",
   "execution_count": 1,
   "id": "b1be6678-e671-422f-a434-973f54ff23b3",
   "metadata": {},
   "outputs": [
    {
     "name": "stdout",
     "output_type": "stream",
     "text": [
      "Columns in Dataset: ['alpha', 'theta', 'beta', 'gamma', 'arousal', 'vigilance', 'tli', 'neutral', 'cnsarousal', 'cpari', 'heartrate', 'pei', 'mean', 'varience', 'std', 'rms', 'skew', 'kurt', 'mobility', 'complexity', 'peak-peak', 'entropy', 'RESPONSE']\n",
      "✅ Training Data Shape: (9072, 22, 1), Testing Data Shape: (2268, 22, 1)\n",
      "✅ Classes: [0 1]\n"
     ]
    }
   ],
   "source": [
    "import pandas as pd\n",
    "import numpy as np\n",
    "from sklearn.model_selection import train_test_split\n",
    "from sklearn.preprocessing import StandardScaler, LabelEncoder\n",
    "import joblib\n",
    "\n",
    "# Load dataset\n",
    "excel_file = r\"C:\\Users\\kavin\\OneDrive\\Desktop\\Final Project\\bb\\bb\\F8_cleaned.xlsx\"  # Change this to your file path\n",
    "data = pd.read_excel(excel_file)\n",
    "\n",
    "# Drop missing values\n",
    "data = data.dropna()\n",
    "\n",
    "# Print column names to verify\n",
    "print(\"Columns in Dataset:\", data.columns.tolist())\n",
    "\n",
    "# Convert labels to numeric values (Novice = 0, Expert = 1)\n",
    "label_encoder = LabelEncoder()\n",
    "data['RESPONSE'] = label_encoder.fit_transform(data['RESPONSE'])\n",
    "\n",
    "# Save label mapping\n",
    "joblib.dump(label_encoder, 'label_mapping.pkl')\n",
    "\n",
    "# Split features and target\n",
    "X = data.drop(columns=['RESPONSE']).values  # Drop the RESPONSE column (features only)\n",
    "y = data['RESPONSE'].values  # Target labels\n",
    "\n",
    "# Normalize input data\n",
    "scaler = StandardScaler()\n",
    "X = scaler.fit_transform(X)  # Normalize features\n",
    "\n",
    "# Save the scaler\n",
    "joblib.dump(scaler, 'scaler.pkl')\n",
    "\n",
    "# Reshape data for CNN + LSTM\n",
    "X = X.reshape(X.shape[0], X.shape[1], 1)\n",
    "\n",
    "# Train-test split\n",
    "X_train, X_test, y_train, y_test = train_test_split(X, y, test_size=0.2, random_state=42)\n",
    "\n",
    "print(f\"✅ Training Data Shape: {X_train.shape}, Testing Data Shape: {X_test.shape}\")\n",
    "print(f\"✅ Classes: {label_encoder.classes_}\")"
   ]
  },
  {
   "cell_type": "code",
   "execution_count": 2,
   "id": "c02c0d46-29ac-4e18-bf30-69dc607ba8d6",
   "metadata": {},
   "outputs": [
    {
     "name": "stderr",
     "output_type": "stream",
     "text": [
      "C:\\Users\\kavin\\AppData\\Roaming\\Python\\Python312\\site-packages\\keras\\src\\layers\\convolutional\\base_conv.py:107: UserWarning: Do not pass an `input_shape`/`input_dim` argument to a layer. When using Sequential models, prefer using an `Input(shape)` object as the first layer in the model instead.\n",
      "  super().__init__(activity_regularizer=activity_regularizer, **kwargs)\n"
     ]
    },
    {
     "name": "stdout",
     "output_type": "stream",
     "text": [
      "✅ Model Compiled Successfully!\n"
     ]
    }
   ],
   "source": [
    "from tensorflow.keras.models import Sequential\n",
    "from tensorflow.keras.layers import Conv1D, MaxPooling1D, Flatten, Dense, LSTM, Bidirectional, Reshape\n",
    "from tensorflow.keras.layers import Dropout, BatchNormalization\n",
    "\n",
    "# Define model\n",
    "def build_model(input_shape):\n",
    "    model = Sequential([\n",
    "        Conv1D(64, kernel_size=3, activation='relu', input_shape=input_shape),\n",
    "        MaxPooling1D(pool_size=2),\n",
    "        Conv1D(128, kernel_size=3, activation='relu'),\n",
    "        MaxPooling1D(pool_size=2),\n",
    "        Conv1D(256, kernel_size=3, activation='relu'),\n",
    "        MaxPooling1D(pool_size=2),\n",
    "        Flatten(),\n",
    "        Dense(64, activation='relu'),\n",
    "        Dropout(0.5),\n",
    "        Reshape((64, 1)),\n",
    "        BatchNormalization(),\n",
    "        Bidirectional(LSTM(128, return_sequences=True)),\n",
    "        Bidirectional(LSTM(64, return_sequences=True)),\n",
    "        Bidirectional(LSTM(32, return_sequences=True)),\n",
    "        Flatten(),\n",
    "        Dropout(0.5),\n",
    "        Dense(64, activation='relu'),\n",
    "        Dense(32, activation='relu'),\n",
    "        Dense(1, activation='sigmoid')  # Binary classification (Novice vs Expert)\n",
    "    ])\n",
    "    return model\n",
    "\n",
    "# Get input shape\n",
    "input_shape = (X_train.shape[1], 1)\n",
    "\n",
    "# Build and compile model\n",
    "model = build_model(input_shape)\n",
    "model.compile(optimizer='adam', loss='binary_crossentropy', metrics=['accuracy'])\n",
    "\n",
    "print(\"✅ Model Compiled Successfully!\")"
   ]
  },
  {
   "cell_type": "code",
   "execution_count": 3,
   "id": "842506c3-3541-40c3-8b6c-cb5a89eae32a",
   "metadata": {},
   "outputs": [
    {
     "name": "stderr",
     "output_type": "stream",
     "text": [
      "C:\\Users\\kavin\\AppData\\Roaming\\Python\\Python312\\site-packages\\keras\\src\\layers\\core\\dense.py:87: UserWarning: Do not pass an `input_shape`/`input_dim` argument to a layer. When using Sequential models, prefer using an `Input(shape)` object as the first layer in the model instead.\n",
      "  super().__init__(activity_regularizer=activity_regularizer, **kwargs)\n"
     ]
    },
    {
     "name": "stdout",
     "output_type": "stream",
     "text": [
      "Epoch 1/50\n",
      "\u001b[1m32/32\u001b[0m \u001b[32m━━━━━━━━━━━━━━━━━━━━\u001b[0m\u001b[37m\u001b[0m \u001b[1m4s\u001b[0m 29ms/step - accuracy: 0.4512 - loss: 0.6964 - val_accuracy: 0.5150 - val_loss: 0.6929 - learning_rate: 0.0010\n",
      "Epoch 2/50\n",
      "\u001b[1m32/32\u001b[0m \u001b[32m━━━━━━━━━━━━━━━━━━━━\u001b[0m\u001b[37m\u001b[0m \u001b[1m1s\u001b[0m 15ms/step - accuracy: 0.5037 - loss: 0.6915 - val_accuracy: 0.5250 - val_loss: 0.6910 - learning_rate: 0.0010\n",
      "Epoch 3/50\n",
      "\u001b[1m32/32\u001b[0m \u001b[32m━━━━━━━━━━━━━━━━━━━━\u001b[0m\u001b[37m\u001b[0m \u001b[1m1s\u001b[0m 13ms/step - accuracy: 0.5345 - loss: 0.6889 - val_accuracy: 0.5250 - val_loss: 0.6915 - learning_rate: 0.0010\n",
      "Epoch 4/50\n",
      "\u001b[1m32/32\u001b[0m \u001b[32m━━━━━━━━━━━━━━━━━━━━\u001b[0m\u001b[37m\u001b[0m \u001b[1m1s\u001b[0m 13ms/step - accuracy: 0.5108 - loss: 0.6884 - val_accuracy: 0.5250 - val_loss: 0.6899 - learning_rate: 0.0010\n",
      "Epoch 5/50\n",
      "\u001b[1m32/32\u001b[0m \u001b[32m━━━━━━━━━━━━━━━━━━━━\u001b[0m\u001b[37m\u001b[0m \u001b[1m1s\u001b[0m 14ms/step - accuracy: 0.5501 - loss: 0.6845 - val_accuracy: 0.5350 - val_loss: 0.6911 - learning_rate: 0.0010\n",
      "Epoch 6/50\n",
      "\u001b[1m32/32\u001b[0m \u001b[32m━━━━━━━━━━━━━━━━━━━━\u001b[0m\u001b[37m\u001b[0m \u001b[1m1s\u001b[0m 14ms/step - accuracy: 0.5762 - loss: 0.6832 - val_accuracy: 0.5400 - val_loss: 0.6903 - learning_rate: 0.0010\n",
      "Epoch 7/50\n",
      "\u001b[1m32/32\u001b[0m \u001b[32m━━━━━━━━━━━━━━━━━━━━\u001b[0m\u001b[37m\u001b[0m \u001b[1m1s\u001b[0m 14ms/step - accuracy: 0.5681 - loss: 0.6833 - val_accuracy: 0.5300 - val_loss: 0.6905 - learning_rate: 0.0010\n",
      "Epoch 8/50\n",
      "\u001b[1m32/32\u001b[0m \u001b[32m━━━━━━━━━━━━━━━━━━━━\u001b[0m\u001b[37m\u001b[0m \u001b[1m1s\u001b[0m 17ms/step - accuracy: 0.5466 - loss: 0.6837 - val_accuracy: 0.5500 - val_loss: 0.6887 - learning_rate: 0.0010\n",
      "Epoch 9/50\n",
      "\u001b[1m32/32\u001b[0m \u001b[32m━━━━━━━━━━━━━━━━━━━━\u001b[0m\u001b[37m\u001b[0m \u001b[1m1s\u001b[0m 12ms/step - accuracy: 0.5845 - loss: 0.6802 - val_accuracy: 0.5300 - val_loss: 0.6892 - learning_rate: 0.0010\n",
      "Epoch 10/50\n",
      "\u001b[1m32/32\u001b[0m \u001b[32m━━━━━━━━━━━━━━━━━━━━\u001b[0m\u001b[37m\u001b[0m \u001b[1m1s\u001b[0m 14ms/step - accuracy: 0.5974 - loss: 0.6767 - val_accuracy: 0.5400 - val_loss: 0.6890 - learning_rate: 0.0010\n",
      "Epoch 11/50\n",
      "\u001b[1m32/32\u001b[0m \u001b[32m━━━━━━━━━━━━━━━━━━━━\u001b[0m\u001b[37m\u001b[0m \u001b[1m0s\u001b[0m 12ms/step - accuracy: 0.5830 - loss: 0.6764 - val_accuracy: 0.5300 - val_loss: 0.6875 - learning_rate: 0.0010\n",
      "Epoch 12/50\n",
      "\u001b[1m32/32\u001b[0m \u001b[32m━━━━━━━━━━━━━━━━━━━━\u001b[0m\u001b[37m\u001b[0m \u001b[1m1s\u001b[0m 14ms/step - accuracy: 0.5946 - loss: 0.6707 - val_accuracy: 0.5450 - val_loss: 0.6876 - learning_rate: 0.0010\n",
      "Epoch 13/50\n",
      "\u001b[1m32/32\u001b[0m \u001b[32m━━━━━━━━━━━━━━━━━━━━\u001b[0m\u001b[37m\u001b[0m \u001b[1m1s\u001b[0m 14ms/step - accuracy: 0.5950 - loss: 0.6685 - val_accuracy: 0.5600 - val_loss: 0.6884 - learning_rate: 0.0010\n",
      "Epoch 14/50\n",
      "\u001b[1m32/32\u001b[0m \u001b[32m━━━━━━━━━━━━━━━━━━━━\u001b[0m\u001b[37m\u001b[0m \u001b[1m1s\u001b[0m 15ms/step - accuracy: 0.6026 - loss: 0.6679 - val_accuracy: 0.5250 - val_loss: 0.6877 - learning_rate: 0.0010\n",
      "Epoch 15/50\n",
      "\u001b[1m32/32\u001b[0m \u001b[32m━━━━━━━━━━━━━━━━━━━━\u001b[0m\u001b[37m\u001b[0m \u001b[1m1s\u001b[0m 14ms/step - accuracy: 0.6050 - loss: 0.6655 - val_accuracy: 0.5650 - val_loss: 0.6877 - learning_rate: 0.0010\n",
      "Epoch 16/50\n",
      "\u001b[1m32/32\u001b[0m \u001b[32m━━━━━━━━━━━━━━━━━━━━\u001b[0m\u001b[37m\u001b[0m \u001b[1m1s\u001b[0m 15ms/step - accuracy: 0.6295 - loss: 0.6621 - val_accuracy: 0.5800 - val_loss: 0.6864 - learning_rate: 0.0010\n",
      "Epoch 17/50\n",
      "\u001b[1m32/32\u001b[0m \u001b[32m━━━━━━━━━━━━━━━━━━━━\u001b[0m\u001b[37m\u001b[0m \u001b[1m1s\u001b[0m 14ms/step - accuracy: 0.6535 - loss: 0.6502 - val_accuracy: 0.5400 - val_loss: 0.6880 - learning_rate: 0.0010\n",
      "Epoch 18/50\n",
      "\u001b[1m32/32\u001b[0m \u001b[32m━━━━━━━━━━━━━━━━━━━━\u001b[0m\u001b[37m\u001b[0m \u001b[1m1s\u001b[0m 15ms/step - accuracy: 0.6608 - loss: 0.6493 - val_accuracy: 0.5700 - val_loss: 0.6871 - learning_rate: 0.0010\n",
      "Epoch 19/50\n",
      "\u001b[1m32/32\u001b[0m \u001b[32m━━━━━━━━━━━━━━━━━━━━\u001b[0m\u001b[37m\u001b[0m \u001b[1m1s\u001b[0m 15ms/step - accuracy: 0.6441 - loss: 0.6496 - val_accuracy: 0.5600 - val_loss: 0.6871 - learning_rate: 0.0010\n",
      "Epoch 20/50\n",
      "\u001b[1m32/32\u001b[0m \u001b[32m━━━━━━━━━━━━━━━━━━━━\u001b[0m\u001b[37m\u001b[0m \u001b[1m1s\u001b[0m 14ms/step - accuracy: 0.6716 - loss: 0.6406 - val_accuracy: 0.5950 - val_loss: 0.6883 - learning_rate: 0.0010\n",
      "Epoch 21/50\n",
      "\u001b[1m32/32\u001b[0m \u001b[32m━━━━━━━━━━━━━━━━━━━━\u001b[0m\u001b[37m\u001b[0m \u001b[1m1s\u001b[0m 14ms/step - accuracy: 0.6749 - loss: 0.6357 - val_accuracy: 0.5350 - val_loss: 0.6900 - learning_rate: 0.0010\n",
      "Epoch 22/50\n",
      "\u001b[1m32/32\u001b[0m \u001b[32m━━━━━━━━━━━━━━━━━━━━\u001b[0m\u001b[37m\u001b[0m \u001b[1m0s\u001b[0m 12ms/step - accuracy: 0.6504 - loss: 0.6405 - val_accuracy: 0.5450 - val_loss: 0.6873 - learning_rate: 2.0000e-04\n",
      "Epoch 23/50\n",
      "\u001b[1m32/32\u001b[0m \u001b[32m━━━━━━━━━━━━━━━━━━━━\u001b[0m\u001b[37m\u001b[0m \u001b[1m1s\u001b[0m 15ms/step - accuracy: 0.6788 - loss: 0.6273 - val_accuracy: 0.5500 - val_loss: 0.6888 - learning_rate: 2.0000e-04\n",
      "Epoch 24/50\n",
      "\u001b[1m32/32\u001b[0m \u001b[32m━━━━━━━━━━━━━━━━━━━━\u001b[0m\u001b[37m\u001b[0m \u001b[1m1s\u001b[0m 15ms/step - accuracy: 0.6952 - loss: 0.6301 - val_accuracy: 0.5600 - val_loss: 0.6887 - learning_rate: 2.0000e-04\n",
      "Epoch 25/50\n",
      "\u001b[1m32/32\u001b[0m \u001b[32m━━━━━━━━━━━━━━━━━━━━\u001b[0m\u001b[37m\u001b[0m \u001b[1m1s\u001b[0m 15ms/step - accuracy: 0.6980 - loss: 0.6230 - val_accuracy: 0.5550 - val_loss: 0.6887 - learning_rate: 2.0000e-04\n",
      "Epoch 26/50\n",
      "\u001b[1m32/32\u001b[0m \u001b[32m━━━━━━━━━━━━━━━━━━━━\u001b[0m\u001b[37m\u001b[0m \u001b[1m1s\u001b[0m 14ms/step - accuracy: 0.7138 - loss: 0.6239 - val_accuracy: 0.5550 - val_loss: 0.6894 - learning_rate: 2.0000e-04\n",
      "Epoch 27/50\n",
      "\u001b[1m32/32\u001b[0m \u001b[32m━━━━━━━━━━━━━━━━━━━━\u001b[0m\u001b[37m\u001b[0m \u001b[1m1s\u001b[0m 12ms/step - accuracy: 0.6806 - loss: 0.6294 - val_accuracy: 0.5500 - val_loss: 0.6890 - learning_rate: 1.0000e-04\n",
      "Epoch 28/50\n",
      "\u001b[1m32/32\u001b[0m \u001b[32m━━━━━━━━━━━━━━━━━━━━\u001b[0m\u001b[37m\u001b[0m \u001b[1m1s\u001b[0m 12ms/step - accuracy: 0.6928 - loss: 0.6242 - val_accuracy: 0.5500 - val_loss: 0.6892 - learning_rate: 1.0000e-04\n",
      "Epoch 29/50\n",
      "\u001b[1m32/32\u001b[0m \u001b[32m━━━━━━━━━━━━━━━━━━━━\u001b[0m\u001b[37m\u001b[0m \u001b[1m1s\u001b[0m 15ms/step - accuracy: 0.6894 - loss: 0.6273 - val_accuracy: 0.5550 - val_loss: 0.6890 - learning_rate: 1.0000e-04\n",
      "Epoch 30/50\n",
      "\u001b[1m32/32\u001b[0m \u001b[32m━━━━━━━━━━━━━━━━━━━━\u001b[0m\u001b[37m\u001b[0m \u001b[1m1s\u001b[0m 15ms/step - accuracy: 0.6976 - loss: 0.6160 - val_accuracy: 0.5550 - val_loss: 0.6890 - learning_rate: 1.0000e-04\n",
      "Epoch 31/50\n",
      "\u001b[1m32/32\u001b[0m \u001b[32m━━━━━━━━━━━━━━━━━━━━\u001b[0m\u001b[37m\u001b[0m \u001b[1m0s\u001b[0m 12ms/step - accuracy: 0.7066 - loss: 0.6179 - val_accuracy: 0.5550 - val_loss: 0.6889 - learning_rate: 1.0000e-04\n",
      "Epoch 32/50\n",
      "\u001b[1m32/32\u001b[0m \u001b[32m━━━━━━━━━━━━━━━━━━━━\u001b[0m\u001b[37m\u001b[0m \u001b[1m1s\u001b[0m 15ms/step - accuracy: 0.7052 - loss: 0.6182 - val_accuracy: 0.5600 - val_loss: 0.6887 - learning_rate: 1.0000e-04\n",
      "Epoch 33/50\n",
      "\u001b[1m32/32\u001b[0m \u001b[32m━━━━━━━━━━━━━━━━━━━━\u001b[0m\u001b[37m\u001b[0m \u001b[1m1s\u001b[0m 14ms/step - accuracy: 0.6926 - loss: 0.6160 - val_accuracy: 0.5550 - val_loss: 0.6890 - learning_rate: 1.0000e-04\n",
      "Epoch 34/50\n",
      "\u001b[1m32/32\u001b[0m \u001b[32m━━━━━━━━━━━━━━━━━━━━\u001b[0m\u001b[37m\u001b[0m \u001b[1m0s\u001b[0m 12ms/step - accuracy: 0.7203 - loss: 0.6187 - val_accuracy: 0.5550 - val_loss: 0.6893 - learning_rate: 1.0000e-04\n",
      "Epoch 35/50\n",
      "\u001b[1m32/32\u001b[0m \u001b[32m━━━━━━━━━━━━━━━━━━━━\u001b[0m\u001b[37m\u001b[0m \u001b[1m1s\u001b[0m 12ms/step - accuracy: 0.7085 - loss: 0.6185 - val_accuracy: 0.5550 - val_loss: 0.6888 - learning_rate: 1.0000e-04\n",
      "Epoch 36/50\n",
      "\u001b[1m32/32\u001b[0m \u001b[32m━━━━━━━━━━━━━━━━━━━━\u001b[0m\u001b[37m\u001b[0m \u001b[1m1s\u001b[0m 14ms/step - accuracy: 0.6809 - loss: 0.6266 - val_accuracy: 0.5550 - val_loss: 0.6891 - learning_rate: 1.0000e-04\n",
      "Epoch 37/50\n",
      "\u001b[1m32/32\u001b[0m \u001b[32m━━━━━━━━━━━━━━━━━━━━\u001b[0m\u001b[37m\u001b[0m \u001b[1m1s\u001b[0m 14ms/step - accuracy: 0.7018 - loss: 0.6192 - val_accuracy: 0.5550 - val_loss: 0.6889 - learning_rate: 1.0000e-04\n",
      "Epoch 38/50\n",
      "\u001b[1m32/32\u001b[0m \u001b[32m━━━━━━━━━━━━━━━━━━━━\u001b[0m\u001b[37m\u001b[0m \u001b[1m1s\u001b[0m 12ms/step - accuracy: 0.7157 - loss: 0.6137 - val_accuracy: 0.5450 - val_loss: 0.6890 - learning_rate: 1.0000e-04\n",
      "Epoch 39/50\n",
      "\u001b[1m32/32\u001b[0m \u001b[32m━━━━━━━━━━━━━━━━━━━━\u001b[0m\u001b[37m\u001b[0m \u001b[1m1s\u001b[0m 14ms/step - accuracy: 0.6902 - loss: 0.6198 - val_accuracy: 0.5600 - val_loss: 0.6889 - learning_rate: 1.0000e-04\n",
      "Epoch 40/50\n",
      "\u001b[1m32/32\u001b[0m \u001b[32m━━━━━━━━━━━━━━━━━━━━\u001b[0m\u001b[37m\u001b[0m \u001b[1m1s\u001b[0m 15ms/step - accuracy: 0.7061 - loss: 0.6270 - val_accuracy: 0.5550 - val_loss: 0.6888 - learning_rate: 1.0000e-04\n",
      "Epoch 41/50\n",
      "\u001b[1m32/32\u001b[0m \u001b[32m━━━━━━━━━━━━━━━━━━━━\u001b[0m\u001b[37m\u001b[0m \u001b[1m1s\u001b[0m 15ms/step - accuracy: 0.7177 - loss: 0.6141 - val_accuracy: 0.5600 - val_loss: 0.6891 - learning_rate: 1.0000e-04\n",
      "Epoch 42/50\n",
      "\u001b[1m32/32\u001b[0m \u001b[32m━━━━━━━━━━━━━━━━━━━━\u001b[0m\u001b[37m\u001b[0m \u001b[1m1s\u001b[0m 14ms/step - accuracy: 0.7096 - loss: 0.6142 - val_accuracy: 0.5550 - val_loss: 0.6895 - learning_rate: 1.0000e-04\n",
      "Epoch 43/50\n",
      "\u001b[1m32/32\u001b[0m \u001b[32m━━━━━━━━━━━━━━━━━━━━\u001b[0m\u001b[37m\u001b[0m \u001b[1m1s\u001b[0m 14ms/step - accuracy: 0.7320 - loss: 0.6040 - val_accuracy: 0.5500 - val_loss: 0.6899 - learning_rate: 1.0000e-04\n",
      "Epoch 44/50\n",
      "\u001b[1m32/32\u001b[0m \u001b[32m━━━━━━━━━━━━━━━━━━━━\u001b[0m\u001b[37m\u001b[0m \u001b[1m1s\u001b[0m 15ms/step - accuracy: 0.6980 - loss: 0.6198 - val_accuracy: 0.5650 - val_loss: 0.6898 - learning_rate: 1.0000e-04\n",
      "Epoch 45/50\n",
      "\u001b[1m32/32\u001b[0m \u001b[32m━━━━━━━━━━━━━━━━━━━━\u001b[0m\u001b[37m\u001b[0m \u001b[1m1s\u001b[0m 12ms/step - accuracy: 0.7156 - loss: 0.6089 - val_accuracy: 0.5550 - val_loss: 0.6901 - learning_rate: 1.0000e-04\n",
      "Epoch 46/50\n",
      "\u001b[1m32/32\u001b[0m \u001b[32m━━━━━━━━━━━━━━━━━━━━\u001b[0m\u001b[37m\u001b[0m \u001b[1m1s\u001b[0m 12ms/step - accuracy: 0.7139 - loss: 0.6075 - val_accuracy: 0.5500 - val_loss: 0.6900 - learning_rate: 1.0000e-04\n",
      "Epoch 47/50\n",
      "\u001b[1m32/32\u001b[0m \u001b[32m━━━━━━━━━━━━━━━━━━━━\u001b[0m\u001b[37m\u001b[0m \u001b[1m1s\u001b[0m 15ms/step - accuracy: 0.6924 - loss: 0.6188 - val_accuracy: 0.5500 - val_loss: 0.6899 - learning_rate: 1.0000e-04\n",
      "Epoch 48/50\n",
      "\u001b[1m32/32\u001b[0m \u001b[32m━━━━━━━━━━━━━━━━━━━━\u001b[0m\u001b[37m\u001b[0m \u001b[1m1s\u001b[0m 14ms/step - accuracy: 0.7336 - loss: 0.6060 - val_accuracy: 0.5500 - val_loss: 0.6906 - learning_rate: 1.0000e-04\n",
      "Epoch 49/50\n",
      "\u001b[1m32/32\u001b[0m \u001b[32m━━━━━━━━━━━━━━━━━━━━\u001b[0m\u001b[37m\u001b[0m \u001b[1m1s\u001b[0m 14ms/step - accuracy: 0.7145 - loss: 0.6141 - val_accuracy: 0.5600 - val_loss: 0.6904 - learning_rate: 1.0000e-04\n",
      "Epoch 50/50\n",
      "\u001b[1m32/32\u001b[0m \u001b[32m━━━━━━━━━━━━━━━━━━━━\u001b[0m\u001b[37m\u001b[0m \u001b[1m1s\u001b[0m 15ms/step - accuracy: 0.7250 - loss: 0.6079 - val_accuracy: 0.5600 - val_loss: 0.6901 - learning_rate: 1.0000e-04\n",
      "\u001b[1m7/7\u001b[0m \u001b[32m━━━━━━━━━━━━━━━━━━━━\u001b[0m\u001b[37m\u001b[0m \u001b[1m0s\u001b[0m 16ms/step - accuracy: 0.5766 - loss: 0.6834\n"
     ]
    },
    {
     "name": "stderr",
     "output_type": "stream",
     "text": [
      "WARNING:absl:You are saving your model as an HDF5 file via `model.save()` or `keras.saving.save_model(model)`. This file format is considered legacy. We recommend using instead the native Keras format, e.g. `model.save('my_model.keras')` or `keras.saving.save_model(model, 'my_model.keras')`. \n"
     ]
    },
    {
     "name": "stdout",
     "output_type": "stream",
     "text": [
      "Test Accuracy: 0.5600\n",
      "Model training complete and saved as 'trained_model.h5'\n"
     ]
    }
   ],
   "source": [
    "import numpy as np\n",
    "import tensorflow as tf\n",
    "from tensorflow.keras.models import Sequential\n",
    "from tensorflow.keras.layers import Dense\n",
    "from tensorflow.keras.callbacks import ReduceLROnPlateau\n",
    "\n",
    "# Generate Sample Data (Replace with actual dataset)\n",
    "X_train = np.random.rand(1000, 20)\n",
    "y_train = np.random.randint(0, 2, 1000)\n",
    "X_test = np.random.rand(200, 20)\n",
    "y_test = np.random.randint(0, 2, 200)\n",
    "\n",
    "# Create Model Function\n",
    "def create_model(input_shape):\n",
    "    model = Sequential([\n",
    "        Dense(64, activation='relu', input_shape=(input_shape,)),\n",
    "        Dense(32, activation='relu'),\n",
    "        Dense(1, activation='sigmoid')\n",
    "    ])\n",
    "    model.compile(optimizer='adam', loss='binary_crossentropy', metrics=['accuracy'])\n",
    "    return model\n",
    "\n",
    "# Initialize Model\n",
    "model = create_model(input_shape=X_train.shape[1])\n",
    "\n",
    "# Define Callbacks\n",
    "reduce_lr = ReduceLROnPlateau(monitor='val_loss', factor=0.2, patience=5, min_lr=0.0001)\n",
    "\n",
    "# Train Model (Ensuring Full 50 Epochs)\n",
    "history = model.fit(X_train, y_train, validation_data=(X_test, y_test),\n",
    "                    epochs=50, batch_size=32, callbacks=[reduce_lr])  # Removed early_stop\n",
    "\n",
    "# Evaluate Model\n",
    "test_loss, test_acc = model.evaluate(X_test, y_test)\n",
    "print(f\"Test Accuracy: {test_acc:.4f}\")\n",
    "\n",
    "# Save Model\n",
    "model.save(\"trained_model.h5\")\n",
    "print(\"Model training complete and saved as 'trained_model.h5'\")"
   ]
  },
  {
   "cell_type": "code",
   "execution_count": 4,
   "id": "fe3bad8b-a9d0-46bc-aeed-4723e9c44c4d",
   "metadata": {},
   "outputs": [
    {
     "name": "stdout",
     "output_type": "stream",
     "text": [
      "\u001b[1m32/32\u001b[0m \u001b[32m━━━━━━━━━━━━━━━━━━━━\u001b[0m\u001b[37m\u001b[0m \u001b[1m0s\u001b[0m 6ms/step - accuracy: 0.7078 - loss: 0.6109\n",
      "\u001b[1m7/7\u001b[0m \u001b[32m━━━━━━━━━━━━━━━━━━━━\u001b[0m\u001b[37m\u001b[0m \u001b[1m0s\u001b[0m 14ms/step - accuracy: 0.5766 - loss: 0.6834\n",
      "Train Loss: 0.6091903448104858, Train Accuracy: 0.7160000205039978\n",
      "Test Loss: 0.6901249885559082, Test Accuracy: 0.5600000023841858\n"
     ]
    }
   ],
   "source": [
    "# Evaluate the model\n",
    "loss_train, accuracy_train = model.evaluate(X_train, y_train)\n",
    "loss_test, accuracy_test = model.evaluate(X_test, y_test)\n",
    "print(f'Train Loss: {loss_train}, Train Accuracy: {accuracy_train}')\n",
    "print(f'Test Loss: {loss_test}, Test Accuracy: {accuracy_test}')"
   ]
  },
  {
   "cell_type": "code",
   "execution_count": 5,
   "id": "f4345fb7-db4c-4f7d-8a31-5d6fc9071030",
   "metadata": {},
   "outputs": [
    {
     "data": {
      "image/png": "[encoded data removed]",
      "text/plain": [
       "<Figure size 640x480 with 1 Axes>"
      ]
     },
     "metadata": {},
     "output_type": "display_data"
    }
   ],
   "source": [
    "import matplotlib.pyplot as plt  # Import Matplotlib\n",
    "\n",
    "# Plot training and validation accuracy\n",
    "plt.plot(history.history['accuracy'], label='Training Accuracy')\n",
    "plt.plot(history.history['val_accuracy'], label='Validation Accuracy')\n",
    "plt.xlabel('Epoch')\n",
    "plt.ylabel('Accuracy')\n",
    "plt.legend()\n",
    "plt.title('Model Accuracy')\n",
    "plt.show()"
   ]
  },
  {
   "cell_type": "code",
   "execution_count": 6,
   "id": "b5119047-4d28-481a-91b8-a05a6dd44871",
   "metadata": {},
   "outputs": [
    {
     "name": "stdout",
     "output_type": "stream",
     "text": [
      "      alpha      theta      beta     gamma   arousal  vigilance       tli  \\\n",
      "0  2.783487   7.391501  4.072571  1.553899  1.463118   2.498419  2.655483   \n",
      "1  2.304374   2.429850  3.346171  1.065399  1.452096   1.414818  1.054451   \n",
      "2  1.367211   2.477849  2.335188  1.675132  1.707993   1.646574  1.812338   \n",
      "3  2.668605  10.695312  2.284412  1.321195  0.856032   5.850047  4.007829   \n",
      "4  6.222411   6.934830  1.670090  0.898021  0.268399   7.878163  1.114493   \n",
      "\n",
      "    neutral  cnsarousal     cpari  ...      varience         std          rms  \\\n",
      "0  0.550980    1.814947  0.400253  ...   7540.221907   86.834451  4330.819095   \n",
      "1  1.377110    0.726158  0.706805  ...    512.989661   22.649275  4350.837831   \n",
      "2  0.942425    1.061092  0.607322  ...    811.274543   28.482882  4360.517767   \n",
      "3  0.213590    4.681867  0.170939  ...   6752.436061   82.173208  4356.596081   \n",
      "4  0.240826    4.152369  0.126933  ...  29768.849155  172.536515  4352.886251   \n",
      "\n",
      "       skew      kurt  mobility  complexity   peak-peak   entropy  RESPONSE  \n",
      "0  1.017711  3.577991  0.093397    6.815651  380.512695  0.393650         1  \n",
      "1  0.548607  3.587978  0.323860    2.026841  131.282227  0.781703         1  \n",
      "2  0.317157  2.441827  0.239992    2.745027  131.410156  0.724092         1  \n",
      "3  0.343561  2.051542  0.088898    7.093678  354.487305  0.352039         1  \n",
      "4  1.639643  4.686086  0.048066    9.762553  660.897461  0.128176         1  \n",
      "\n",
      "[5 rows x 23 columns]\n"
     ]
    },
    {
     "data": {
      "image/png": "[encoded data removed]",
      "text/plain": [
       "<Figure size 800x600 with 2 Axes>"
      ]
     },
     "metadata": {},
     "output_type": "display_data"
    },
    {
     "name": "stdout",
     "output_type": "stream",
     "text": [
      "Model Accuracy: 0.78\n"
     ]
    }
   ],
   "source": [
    "import pandas as pd\n",
    "import numpy as np\n",
    "import matplotlib.pyplot as plt\n",
    "import seaborn as sns\n",
    "from sklearn.model_selection import train_test_split\n",
    "from sklearn.preprocessing import LabelEncoder, StandardScaler\n",
    "from sklearn.ensemble import RandomForestClassifier\n",
    "from sklearn.metrics import confusion_matrix, accuracy_score\n",
    "\n",
    "# ✅ Load dataset from Excel\n",
    "file_path = r\"C:\\Users\\kavin\\OneDrive\\Desktop\\Final Project\\bb\\bb\\F8_cleaned.xlsx\"  # Your uploaded dataset\n",
    "df = pd.read_excel(file_path)\n",
    "\n",
    "# ✅ Check the first few rows to understand the dataset structure\n",
    "print(df.head())\n",
    "\n",
    "# ✅ Encode categorical labels (assuming 'RESPONSE' is the target variable)\n",
    "label_encoder = LabelEncoder()\n",
    "df['RESPONSE'] = label_encoder.fit_transform(df['RESPONSE'])\n",
    "\n",
    "# ✅ Separate features (X) and target labels (y)\n",
    "X = df.drop(columns=['RESPONSE'])  # Drop the target column\n",
    "y = df['RESPONSE']\n",
    "\n",
    "# ✅ Split dataset into training (80%) and testing (20%)\n",
    "X_train, X_test, y_train, y_test = train_test_split(X, y, test_size=0.2, random_state=42)\n",
    "\n",
    "# ✅ Normalize features (important for models that rely on distance metrics)\n",
    "scaler = StandardScaler()\n",
    "X_train = scaler.fit_transform(X_train)\n",
    "X_test = scaler.transform(X_test)\n",
    "\n",
    "# ✅ Train a simple classification model (Random Forest)\n",
    "model = RandomForestClassifier(n_estimators=100, random_state=42)\n",
    "model.fit(X_train, y_train)\n",
    "\n",
    "# ✅ Make predictions\n",
    "y_pred = model.predict(X_test)\n",
    "\n",
    "# ✅ Compute confusion matrix\n",
    "cm = confusion_matrix(y_test, y_pred)\n",
    "\n",
    "# ✅ Plot confusion matrix\n",
    "plt.figure(figsize=(8, 6))\n",
    "sns.heatmap(cm, annot=True, fmt=\"d\", cmap=\"Blues\", xticklabels=label_encoder.classes_, yticklabels=label_encoder.classes_)\n",
    "plt.xlabel('Predicted labels')\n",
    "plt.ylabel('True labels')\n",
    "plt.title('Confusion Matrix')\n",
    "plt.show()\n",
    "\n",
    "# ✅ Print accuracy\n",
    "accuracy = accuracy_score(y_test, y_pred)\n",
    "print(f\"Model Accuracy: {accuracy:.2f}\")"
   ]
  },
  {
   "cell_type": "code",
   "execution_count": 7,
   "id": "e68925c5-037c-467c-99ce-ecfcf6c65b0f",
   "metadata": {},
   "outputs": [
    {
     "name": "stdout",
     "output_type": "stream",
     "text": [
      "Classification Report:\n",
      "               precision    recall  f1-score   support\n",
      "\n",
      "           0       0.78      0.90      0.84      1394\n",
      "           1       0.78      0.60      0.68       874\n",
      "\n",
      "    accuracy                           0.78      2268\n",
      "   macro avg       0.78      0.75      0.76      2268\n",
      "weighted avg       0.78      0.78      0.78      2268\n",
      "\n"
     ]
    }
   ],
   "source": [
    "\n",
    "from sklearn.metrics import classification_report\n",
    "\n",
    "# Generate classification report\n",
    "class_report = classification_report(y_test, y_pred, target_names=[str(label) for label in label_encoder.classes_])\n",
    "\n",
    "# Print classification report\n",
    "print(\"Classification Report:\\n\", class_report)\n"
   ]
  },
  {
   "cell_type": "code",
   "execution_count": null,
   "id": "fbeab2b6-04a3-416d-b8f8-642650b95fc3",
   "metadata": {},
   "outputs": [],
   "source": []
  }
 ],
 "metadata": {
  "kernelspec": {
   "display_name": "Python 3 (ipykernel)",
   "language": "python",
   "name": "python3"
  },
  "language_info": {
   "codemirror_mode": {
    "name": "ipython",
    "version": 3
   },
   "file_extension": ".py",
   "mimetype": "text/x-python",
   "name": "python",
   "nbconvert_exporter": "python",
   "pygments_lexer": "ipython3",
   "version": "3.12.0"
  }
 },
 "nbformat": 4,
 "nbformat_minor": 5
}
